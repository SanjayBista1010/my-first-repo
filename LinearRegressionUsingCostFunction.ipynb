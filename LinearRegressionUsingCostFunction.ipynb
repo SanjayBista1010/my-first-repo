{
  "nbformat": 4,
  "nbformat_minor": 0,
  "metadata": {
    "colab": {
      "provenance": [],
      "authorship_tag": "ABX9TyNS61G73EJ9OvWjwQYEqHSm",
      "include_colab_link": true
    },
    "kernelspec": {
      "name": "python3",
      "display_name": "Python 3"
    },
    "language_info": {
      "name": "python"
    }
  },
  "cells": [
    {
      "cell_type": "markdown",
      "metadata": {
        "id": "view-in-github",
        "colab_type": "text"
      },
      "source": [
        "<a href=\"https://colab.research.google.com/github/SanjayBista1010/my-first-repo/blob/main/LinearRegressionUsingCostFunction.ipynb\" target=\"_parent\"><img src=\"https://colab.research.google.com/assets/colab-badge.svg\" alt=\"Open In Colab\"/></a>"
      ]
    },
    {
      "cell_type": "code",
      "execution_count": 5,
      "metadata": {
        "colab": {
          "base_uri": "https://localhost:8080/"
        },
        "id": "BQSgeYKrbgGa",
        "outputId": "b5abe250-6c4a-40fd-a251-e377251b8134"
      },
      "outputs": [
        {
          "output_type": "stream",
          "name": "stdout",
          "text": [
            "2.133229080461621 -0.558935794168409\n"
          ]
        }
      ],
      "source": [
        "x = [1, 2, 3, 4, 5]\n",
        "y = [1, 4, 6, 8, 10]\n",
        "\n",
        "w = 0\n",
        "b = 0\n",
        "\n",
        "N = len(x)\n",
        "alpha = 0.01\n",
        "epoch =1000\n",
        "\n",
        "for i in range(epoch):\n",
        "    y_pred = [w * x[j] + b for j in range(N)]\n",
        "    error = [y[j] - y_pred[j] for j in range(N)]\n",
        "\n",
        "    djw_ = [(-x[j]*(y[j]-y_pred[j]))/N for j in range(N)]\n",
        "    djb_ = [(-(y[j] - y_pred[j]))/N for j in range(N)]\n",
        "\n",
        "    djw = sum(djw_)\n",
        "    djb = sum(djb_)\n",
        "\n",
        "    w = w - alpha*djw\n",
        "    b = b - alpha*djb\n",
        "\n",
        "print(w,b)"
      ]
    },
    {
      "cell_type": "code",
      "source": [],
      "metadata": {
        "id": "c56VooEAcyYB"
      },
      "execution_count": null,
      "outputs": []
    }
  ]
}