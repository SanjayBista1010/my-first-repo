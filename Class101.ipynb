{
  "nbformat": 4,
  "nbformat_minor": 0,
  "metadata": {
    "colab": {
      "provenance": [],
      "authorship_tag": "ABX9TyPRbVwbvimXUJq/st3M2m6d",
      "include_colab_link": true
    },
    "kernelspec": {
      "name": "python3",
      "display_name": "Python 3"
    },
    "language_info": {
      "name": "python"
    }
  },
  "cells": [
    {
      "cell_type": "markdown",
      "metadata": {
        "id": "view-in-github",
        "colab_type": "text"
      },
      "source": [
        "<a href=\"https://colab.research.google.com/github/SanjayBista1010/my-first-repo/blob/main/Class101.ipynb\" target=\"_parent\"><img src=\"https://colab.research.google.com/assets/colab-badge.svg\" alt=\"Open In Colab\"/></a>"
      ]
    },
    {
      "cell_type": "code",
      "execution_count": 14,
      "metadata": {
        "colab": {
          "base_uri": "https://localhost:8080/"
        },
        "id": "qQEym4fQq5bI",
        "outputId": "473a9b9d-a2d3-4aee-f1c1-45086633777e"
      },
      "outputs": [
        {
          "output_type": "stream",
          "name": "stdout",
          "text": [
            "Furry 1\n",
            "Meow 2\n"
          ]
        }
      ],
      "source": [
        "class Cat:\n",
        "  def __init__(self,name, age):\n",
        "    self.name = name\n",
        "    self.age = age\n",
        "    print(self.name, self.age)\n",
        "\n",
        "cat1= Cat('Furry',1)\n",
        "cat2= Cat('Meow',2)"
      ]
    },
    {
      "cell_type": "code",
      "source": [
        "class Cat:\n",
        "  species = 'Felis Catus'\n",
        "  def __init__(self,name, age):\n",
        "    self.name = name\n",
        "    self.age = age\n",
        "    print(self.name, self.age)\n",
        "\n",
        "print(Cat.species)\n",
        "cat3 = Cat('Biralo',3)\n",
        "cat3.species = 'Felis Meows'\n",
        "print(cat3.species)"
      ],
      "metadata": {
        "colab": {
          "base_uri": "https://localhost:8080/"
        },
        "id": "dhamdB0WuTX4",
        "outputId": "7a07b24b-a937-4a42-c345-7ff20f593ca5"
      },
      "execution_count": 15,
      "outputs": [
        {
          "output_type": "stream",
          "name": "stdout",
          "text": [
            "Felis Catus\n",
            "Biralo 3\n",
            "Felis Meows\n"
          ]
        }
      ]
    },
    {
      "cell_type": "code",
      "source": [
        "class Account:\n",
        "  def __init__(self, name, ids, index=0, balance=0.0 ):\n",
        "    #assign to self object\n",
        "    self.name = name\n",
        "    self.ids = ids\n",
        "    self.index = index\n",
        "    self.balance = balance\n",
        "  def total_user_balance(self):\n",
        "    return self.index * self.balance\n",
        "\n",
        "account1= Account('Peter Parker', 101, 2,11000)\n",
        "print(account1.total_user_balance())\n",
        "\n",
        "account2= Account('Steve Rogers', 102)\n",
        "print(account2.total_user_balance())"
      ],
      "metadata": {
        "colab": {
          "base_uri": "https://localhost:8080/"
        },
        "id": "jAPoDF6Fzl2s",
        "outputId": "29d984d8-738c-4c30-e2e9-be3a7e770f64"
      },
      "execution_count": 21,
      "outputs": [
        {
          "output_type": "stream",
          "name": "stdout",
          "text": [
            "22000\n",
            "0.0\n"
          ]
        }
      ]
    },
    {
      "cell_type": "markdown",
      "source": [
        "#principle of OOP\n",
        "\n",
        "1. Inheritance\n",
        "2. Polymorphism: same method name from parent class can be changed from child class\n",
        "3. Encapsulation\n",
        "4. Data Abstraction"
      ],
      "metadata": {
        "id": "H5MhY68U7lwF"
      }
    },
    {
      "cell_type": "code",
      "source": [
        "#super().__init__(name, ids, index, bakance)\n",
        "#overridden method but want to call parent class constructor"
      ],
      "metadata": {
        "id": "60YYTRZJ7jEl"
      },
      "execution_count": null,
      "outputs": []
    },
    {
      "cell_type": "code",
      "source": [
        "class Demat_Account(Account):\n",
        "  all = []\n",
        "  def __init__(self, name: str , ids: int , index=0, balance=0.0 ,number_shares=0):\n",
        "    #validate the new attributes specific to Demat account\n",
        "    assert number_shares >=0, f'Number of shares {number_shares} is not greater than or equal to zero'\n",
        "\n",
        "    #assert for raising alert\n",
        "\n",
        "    #call the parent class constructor\n",
        "    super().__init__(name, ids, index, balance)\n",
        "\n",
        "    #assign the new attribute\n",
        "    self.number_shares = number_shares\n",
        "\n",
        "    Demat_Account.all.append(self)\n",
        "\n",
        "demat1 = Demat_Account('Bruce Wyane', 401, 1, 25000, 5)\n",
        "demat2 = Demat_Account('Nick Fury', 402, 1, 7500, 12)\n",
        "\n",
        "print(demat1.number_shares)\n",
        "print(demat2.total_user_balance())"
      ],
      "metadata": {
        "colab": {
          "base_uri": "https://localhost:8080/"
        },
        "id": "yZVj7cqc8-NJ",
        "outputId": "2a1cde40-556b-47ec-a897-e01f0e53356a"
      },
      "execution_count": 23,
      "outputs": [
        {
          "output_type": "stream",
          "name": "stdout",
          "text": [
            "5\n",
            "7500\n"
          ]
        }
      ]
    }
  ]
}