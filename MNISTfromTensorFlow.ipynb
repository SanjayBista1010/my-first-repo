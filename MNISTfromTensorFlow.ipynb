{
  "nbformat": 4,
  "nbformat_minor": 0,
  "metadata": {
    "colab": {
      "provenance": [],
      "gpuType": "T4",
      "authorship_tag": "ABX9TyMclcqfXSMnynWecWvBRI0T",
      "include_colab_link": true
    },
    "kernelspec": {
      "name": "python3",
      "display_name": "Python 3"
    },
    "language_info": {
      "name": "python"
    },
    "accelerator": "GPU"
  },
  "cells": [
    {
      "cell_type": "markdown",
      "metadata": {
        "id": "view-in-github",
        "colab_type": "text"
      },
      "source": [
        "<a href=\"https://colab.research.google.com/github/SanjayBista1010/my-first-repo/blob/main/MNISTfromTensorFlow.ipynb\" target=\"_parent\"><img src=\"https://colab.research.google.com/assets/colab-badge.svg\" alt=\"Open In Colab\"/></a>"
      ]
    },
    {
      "cell_type": "code",
      "source": [
        "import tensorflow as tf\n",
        "import numpy as np\n",
        "from tqdm import tqdm"
      ],
      "metadata": {
        "id": "PjLf73EYru7X"
      },
      "execution_count": null,
      "outputs": []
    },
    {
      "cell_type": "code",
      "source": [
        "# ----------------------------\n",
        "# 1. Load MNIST and preprocess\n",
        "# ----------------------------\n",
        "(X_train, y_train), (X_test, y_test) = tf.keras.datasets.mnist.load_data()\n",
        "\n",
        "# normalize to [0,1] and add channel dimension\n",
        "X_train = X_train.astype(np.float32) / 255.0\n",
        "X_test  = X_test.astype(np.float32) / 255.0\n",
        "X_train = X_train[..., np.newaxis]  # shape (N,28,28,1)\n",
        "X_test  = X_test[..., np.newaxis]\n"
      ],
      "metadata": {
        "id": "27frH7xervhQ"
      },
      "execution_count": null,
      "outputs": []
    },
    {
      "cell_type": "code",
      "source": [
        "# ----------------------------\n",
        "# 2. Custom Dataset and DataLoader\n",
        "# ----------------------------\n",
        "class Data:\n",
        "    def __init__(self, X, y):\n",
        "        self.X = X\n",
        "        self.y = y\n",
        "        self.len = len(X)\n",
        "\n",
        "    def __getitem__(self, index):\n",
        "        return self.X[index], self.y[index]\n",
        "\n",
        "    def __len__(self):\n",
        "        return self.len\n",
        "\n",
        "def DataLoader(dataset, batch_size=64, shuffle=True):\n",
        "    indices = np.arange(len(dataset))\n",
        "    if shuffle:\n",
        "        np.random.shuffle(indices)\n",
        "    for start_idx in range(0, len(dataset), batch_size):\n",
        "        batch_indices = indices[start_idx:start_idx+batch_size]\n",
        "        batch_X = dataset.X[batch_indices]\n",
        "        batch_y = dataset.y[batch_indices]\n",
        "        yield batch_X, batch_y"
      ],
      "metadata": {
        "id": "5mADgfoUrzlh"
      },
      "execution_count": null,
      "outputs": []
    },
    {
      "cell_type": "code",
      "source": [
        "# Create datasets and loaders\n",
        "batch_size = 64\n",
        "train_dataset = Data(X_train, y_train)\n",
        "test_dataset  = Data(X_test, y_test)\n",
        "\n",
        "train_loader = DataLoader(train_dataset, batch_size=batch_size, shuffle=True)\n",
        "test_loader  = DataLoader(test_dataset, batch_size=batch_size, shuffle=False)"
      ],
      "metadata": {
        "id": "Xf3A-C-Qr2DQ"
      },
      "execution_count": null,
      "outputs": []
    },
    {
      "cell_type": "code",
      "source": [
        "# ----------------------------\n",
        "# 3. Define CNN (like your PyTorch model)\n",
        "# ----------------------------\n",
        "class CNN(tf.keras.Model):\n",
        "    def __init__(self, in_channels=1, num_classes=10):\n",
        "        super().__init__()\n",
        "        self.conv1 = tf.keras.layers.Conv2D(\n",
        "            filters=8, kernel_size=3, strides=1, padding=\"same\", activation=\"relu\",\n",
        "            input_shape=(28,28,in_channels)\n",
        "        )\n",
        "        self.pool = tf.keras.layers.MaxPooling2D(pool_size=2, strides=2)\n",
        "        self.conv2 = tf.keras.layers.Conv2D(\n",
        "            filters=16, kernel_size=3, strides=1, padding=\"same\", activation=\"relu\"\n",
        "        )\n",
        "        self.flatten = tf.keras.layers.Flatten()\n",
        "        self.fc1 = tf.keras.layers.Dense(num_classes)  # logits\n",
        "\n",
        "    def call(self, x):\n",
        "        x = self.conv1(x)\n",
        "        x = self.pool(x)\n",
        "        x = self.conv2(x)\n",
        "        x = self.pool(x)\n",
        "        x = self.flatten(x)\n",
        "        return self.fc1(x)\n",
        "\n",
        "model = CNN(in_channels=1, num_classes=10)"
      ],
      "metadata": {
        "colab": {
          "base_uri": "https://localhost:8080/"
        },
        "id": "anTOQ9IKr4F4",
        "outputId": "09e52c69-b7e0-4fb1-8d3b-064fe5573425"
      },
      "execution_count": null,
      "outputs": [
        {
          "output_type": "stream",
          "name": "stderr",
          "text": [
            "/usr/local/lib/python3.12/dist-packages/keras/src/layers/convolutional/base_conv.py:113: UserWarning: Do not pass an `input_shape`/`input_dim` argument to a layer. When using Sequential models, prefer using an `Input(shape)` object as the first layer in the model instead.\n",
            "  super().__init__(activity_regularizer=activity_regularizer, **kwargs)\n"
          ]
        }
      ]
    },
    {
      "cell_type": "code",
      "source": [
        "# ----------------------------\n",
        "# 4. Define loss and optimizer\n",
        "# ----------------------------\n",
        "learning_rate = 0.001\n",
        "loss_fn = tf.keras.losses.SparseCategoricalCrossentropy(from_logits=True)\n",
        "optimizer = tf.keras.optimizers.Adam(learning_rate=learning_rate)"
      ],
      "metadata": {
        "id": "f0bqmXBir6OY"
      },
      "execution_count": null,
      "outputs": []
    },
    {
      "cell_type": "code",
      "source": [
        "# ----------------------------\n",
        "# 5. Training loop (like PyTorch)\n",
        "# ----------------------------\n",
        "import time\n",
        "start_time = time.perf_counter()\n",
        "\n",
        "num_epochs = 10\n",
        "\n",
        "for epoch in range(num_epochs):\n",
        "    print(f\"Epoch [{epoch+1}/{num_epochs}]\")\n",
        "    for batch_idx, (data, targets) in enumerate(tqdm(train_loader)):\n",
        "        # Convert to tensors\n",
        "        data = tf.convert_to_tensor(data)\n",
        "        targets = tf.convert_to_tensor(targets)\n",
        "\n",
        "        with tf.GradientTape() as tape:\n",
        "            scores = model(data, training=True)\n",
        "            loss = loss_fn(targets, scores)\n",
        "\n",
        "        grads = tape.gradient(loss, model.trainable_variables)\n",
        "        optimizer.apply_gradients(zip(grads, model.trainable_variables))\n",
        "\n",
        "end_time = time.perf_counter()\n",
        "elapsed_time = end_time - start_time\n",
        "print(f\"Execution time: {elapsed_time:.4f} seconds\")"
      ],
      "metadata": {
        "colab": {
          "base_uri": "https://localhost:8080/"
        },
        "id": "JLPhZbeNr8Bu",
        "outputId": "00d999b0-46a3-48a2-9a2b-ab8dcc849767"
      },
      "execution_count": null,
      "outputs": [
        {
          "output_type": "stream",
          "name": "stdout",
          "text": [
            "Epoch [1/10]\n"
          ]
        },
        {
          "output_type": "stream",
          "name": "stderr",
          "text": [
            "938it [00:37, 24.71it/s]\n"
          ]
        },
        {
          "output_type": "stream",
          "name": "stdout",
          "text": [
            "Epoch [2/10]\n"
          ]
        },
        {
          "output_type": "stream",
          "name": "stderr",
          "text": [
            "0it [00:00, ?it/s]\n"
          ]
        },
        {
          "output_type": "stream",
          "name": "stdout",
          "text": [
            "Epoch [3/10]\n"
          ]
        },
        {
          "output_type": "stream",
          "name": "stderr",
          "text": [
            "0it [00:00, ?it/s]\n"
          ]
        },
        {
          "output_type": "stream",
          "name": "stdout",
          "text": [
            "Epoch [4/10]\n"
          ]
        },
        {
          "output_type": "stream",
          "name": "stderr",
          "text": [
            "0it [00:00, ?it/s]\n"
          ]
        },
        {
          "output_type": "stream",
          "name": "stdout",
          "text": [
            "Epoch [5/10]\n"
          ]
        },
        {
          "output_type": "stream",
          "name": "stderr",
          "text": [
            "0it [00:00, ?it/s]\n"
          ]
        },
        {
          "output_type": "stream",
          "name": "stdout",
          "text": [
            "Epoch [6/10]\n"
          ]
        },
        {
          "output_type": "stream",
          "name": "stderr",
          "text": [
            "0it [00:00, ?it/s]\n"
          ]
        },
        {
          "output_type": "stream",
          "name": "stdout",
          "text": [
            "Epoch [7/10]\n"
          ]
        },
        {
          "output_type": "stream",
          "name": "stderr",
          "text": [
            "0it [00:00, ?it/s]\n"
          ]
        },
        {
          "output_type": "stream",
          "name": "stdout",
          "text": [
            "Epoch [8/10]\n"
          ]
        },
        {
          "output_type": "stream",
          "name": "stderr",
          "text": [
            "0it [00:00, ?it/s]\n"
          ]
        },
        {
          "output_type": "stream",
          "name": "stdout",
          "text": [
            "Epoch [9/10]\n"
          ]
        },
        {
          "output_type": "stream",
          "name": "stderr",
          "text": [
            "0it [00:00, ?it/s]\n"
          ]
        },
        {
          "output_type": "stream",
          "name": "stdout",
          "text": [
            "Epoch [10/10]\n"
          ]
        },
        {
          "output_type": "stream",
          "name": "stderr",
          "text": [
            "0it [00:00, ?it/s]"
          ]
        },
        {
          "output_type": "stream",
          "name": "stdout",
          "text": [
            "Execution time: 37.9865 seconds\n"
          ]
        },
        {
          "output_type": "stream",
          "name": "stderr",
          "text": [
            "\n"
          ]
        }
      ]
    },
    {
      "cell_type": "code",
      "source": [
        "def check_accuracy(loader, model):\n",
        "    num_correct = 0\n",
        "    num_samples = 0\n",
        "    for x, y in loader:\n",
        "        x = tf.convert_to_tensor(x, dtype=tf.float32)\n",
        "        y = tf.convert_to_tensor(y, dtype=tf.int32)  # <- cast here\n",
        "\n",
        "        scores = model(x, training=False)\n",
        "        predictions = tf.argmax(scores, axis=1, output_type=tf.int32)  # make sure same dtype\n",
        "\n",
        "        num_correct += tf.reduce_sum(tf.cast(predictions == y, tf.int32)).numpy()\n",
        "        num_samples += x.shape[0]\n",
        "\n",
        "    accuracy = 100 * num_correct / num_samples\n",
        "    print(f\"Got {num_correct}/{num_samples} with accuracy {accuracy:.2f}%\")\n",
        "\n",
        "train_loader = DataLoader(train_dataset, batch_size=batch_size, shuffle=True)\n",
        "test_loader  = DataLoader(test_dataset, batch_size=batch_size, shuffle=False)\n",
        "\n",
        "print('Train Accuracy')\n",
        "check_accuracy(train_loader, model)\n",
        "print('Test Accuracy')\n",
        "check_accuracy(test_loader, model)\n"
      ],
      "metadata": {
        "colab": {
          "base_uri": "https://localhost:8080/"
        },
        "id": "va_jUDqgr9vH",
        "outputId": "c7e1ceb5-9959-4a36-e51b-3cf3cb7053c5"
      },
      "execution_count": null,
      "outputs": [
        {
          "output_type": "stream",
          "name": "stdout",
          "text": [
            "Train Accuracy\n",
            "Got 57910/60000 with accuracy 96.52%\n",
            "Test Accuracy\n",
            "Got 9674/10000 with accuracy 96.74%\n"
          ]
        }
      ]
    }
  ]
}